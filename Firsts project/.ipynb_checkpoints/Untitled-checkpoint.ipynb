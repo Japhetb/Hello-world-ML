{
 "cells": [
  {
   "cell_type": "code",
   "execution_count": 18,
   "metadata": {},
   "outputs": [
    {
     "data": {
      "text/plain": [
       "array([1])"
      ]
     },
     "execution_count": 18,
     "metadata": {},
     "output_type": "execute_result"
    }
   ],
   "source": [
    "#import a tree since we will be using a decision tree as our classifier\n",
    "from sklearn import tree\n",
    "#step one features\n",
    "#bumpy for 1 and smooth for 0\n",
    "features=[[150,1],[170,1],[140,0],[130,0]]\n",
    "#labbels=[\"Orange\",\"Orange\",\"Apple\",\"Apple\"]\n",
    "labbels=[1,1,0,0]\n",
    "#step two training the classifier\n",
    "clf=tree.DecisionTreeClassifier()\n",
    "#to train the classifier we need a learning algorithm\n",
    "clf=clf.fit(features,labbels)\n",
    "#giving some features and see the output\n",
    "clf.predict([[150,0]])\n"
   ]
  },
  {
   "cell_type": "code",
   "execution_count": null,
   "metadata": {},
   "outputs": [],
   "source": []
  },
  {
   "cell_type": "code",
   "execution_count": null,
   "metadata": {},
   "outputs": [],
   "source": []
  },
  {
   "cell_type": "code",
   "execution_count": null,
   "metadata": {},
   "outputs": [],
   "source": []
  },
  {
   "cell_type": "code",
   "execution_count": null,
   "metadata": {},
   "outputs": [],
   "source": []
  }
 ],
 "metadata": {
  "kernelspec": {
   "display_name": "Python 3",
   "language": "python",
   "name": "python3"
  },
  "language_info": {
   "codemirror_mode": {
    "name": "ipython",
    "version": 3
   },
   "file_extension": ".py",
   "mimetype": "text/x-python",
   "name": "python",
   "nbconvert_exporter": "python",
   "pygments_lexer": "ipython3",
   "version": "3.8.3"
  }
 },
 "nbformat": 4,
 "nbformat_minor": 4
}
